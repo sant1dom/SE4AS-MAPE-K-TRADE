{
 "cells": [
  {
   "cell_type": "code",
   "execution_count": 89,
   "metadata": {},
   "outputs": [],
   "source": [
    "import pandas as pd\n",
    "from influxdb_client import InfluxDBClient, QueryApi\n",
    "import os\n",
    "import statsmodels.api as sm\n",
    "import numpy as np\n",
    "from dotenv import load_dotenv\n",
    "from flask import Flask, jsonify\n",
    "\n",
    "\n",
    "\n",
    "INFLUXDB_TOKEN = os.getenv(\"INFLUXDB_TOKEN\")\n",
    "INFLUXDB_ORG = os.getenv(\"INFLUXDB_ORG\")\n",
    "INFLUXDB_BUCKET = os.getenv(\"INFLUXDB_BUCKET\")\n",
    "INFLUXDB_URL = os.getenv(\"INFLUXDB_URL\")\n",
    "\n",
    "\n",
    "client = InfluxDBClient(url=\"http://localhost:8086\", token=INFLUXDB_TOKEN, org=INFLUXDB_ORG, timeout=30_000)\n",
    "\n",
    "query_api = client.query_api()\n",
    "query = 'from(bucket: \"crypto\")\\\n",
    "|> range(start: -1y)\\\n",
    "|> filter(fn: (r) => r[\"_measurement\"] == \"BTCUSDT\")'\n",
    "result = query_api.query(org=INFLUXDB_ORG, query=query)\n",
    "\n",
    "\n",
    "\n",
    "results = []\n",
    "for table in result:\n",
    "    for record in table.records:\n",
    "        results.append((record.get_field(), record.get_value(),record.get_time()))\n",
    "    \n",
    "data=pd.DataFrame(results)\n",
    "\n",
    "\n",
    "\n",
    "\n"
   ]
  },
  {
   "cell_type": "code",
   "execution_count": 90,
   "metadata": {},
   "outputs": [
    {
     "data": {
      "text/html": [
       "<div>\n",
       "<style scoped>\n",
       "    .dataframe tbody tr th:only-of-type {\n",
       "        vertical-align: middle;\n",
       "    }\n",
       "\n",
       "    .dataframe tbody tr th {\n",
       "        vertical-align: top;\n",
       "    }\n",
       "\n",
       "    .dataframe thead th {\n",
       "        text-align: right;\n",
       "    }\n",
       "</style>\n",
       "<table border=\"1\" class=\"dataframe\">\n",
       "  <thead>\n",
       "    <tr style=\"text-align: right;\">\n",
       "      <th></th>\n",
       "      <th>0</th>\n",
       "      <th>1</th>\n",
       "      <th>2</th>\n",
       "    </tr>\n",
       "  </thead>\n",
       "  <tbody>\n",
       "    <tr>\n",
       "      <th>0</th>\n",
       "      <td>close</td>\n",
       "      <td>41648.99000</td>\n",
       "      <td>2022-02-06 09:00:00+00:00</td>\n",
       "    </tr>\n",
       "    <tr>\n",
       "      <th>1</th>\n",
       "      <td>close</td>\n",
       "      <td>41578.68000</td>\n",
       "      <td>2022-02-06 10:00:00+00:00</td>\n",
       "    </tr>\n",
       "    <tr>\n",
       "      <th>2</th>\n",
       "      <td>close</td>\n",
       "      <td>41522.00000</td>\n",
       "      <td>2022-02-06 11:00:00+00:00</td>\n",
       "    </tr>\n",
       "    <tr>\n",
       "      <th>3</th>\n",
       "      <td>close</td>\n",
       "      <td>41610.99000</td>\n",
       "      <td>2022-02-06 12:00:00+00:00</td>\n",
       "    </tr>\n",
       "    <tr>\n",
       "      <th>4</th>\n",
       "      <td>close</td>\n",
       "      <td>41692.35000</td>\n",
       "      <td>2022-02-06 13:00:00+00:00</td>\n",
       "    </tr>\n",
       "    <tr>\n",
       "      <th>...</th>\n",
       "      <td>...</td>\n",
       "      <td>...</td>\n",
       "      <td>...</td>\n",
       "    </tr>\n",
       "    <tr>\n",
       "      <th>87275</th>\n",
       "      <td>volume</td>\n",
       "      <td>5484.38416</td>\n",
       "      <td>2023-02-04 20:00:00+00:00</td>\n",
       "    </tr>\n",
       "    <tr>\n",
       "      <th>87276</th>\n",
       "      <td>volume</td>\n",
       "      <td>4614.64216</td>\n",
       "      <td>2023-02-04 21:00:00+00:00</td>\n",
       "    </tr>\n",
       "    <tr>\n",
       "      <th>87277</th>\n",
       "      <td>volume</td>\n",
       "      <td>4638.30091</td>\n",
       "      <td>2023-02-04 22:00:00+00:00</td>\n",
       "    </tr>\n",
       "    <tr>\n",
       "      <th>87278</th>\n",
       "      <td>volume</td>\n",
       "      <td>9471.40173</td>\n",
       "      <td>2023-02-04 23:00:00+00:00</td>\n",
       "    </tr>\n",
       "    <tr>\n",
       "      <th>87279</th>\n",
       "      <td>volume</td>\n",
       "      <td>7678.34651</td>\n",
       "      <td>2023-02-05 00:00:00+00:00</td>\n",
       "    </tr>\n",
       "  </tbody>\n",
       "</table>\n",
       "<p>87280 rows × 3 columns</p>\n",
       "</div>"
      ],
      "text/plain": [
       "            0            1                         2\n",
       "0       close  41648.99000 2022-02-06 09:00:00+00:00\n",
       "1       close  41578.68000 2022-02-06 10:00:00+00:00\n",
       "2       close  41522.00000 2022-02-06 11:00:00+00:00\n",
       "3       close  41610.99000 2022-02-06 12:00:00+00:00\n",
       "4       close  41692.35000 2022-02-06 13:00:00+00:00\n",
       "...       ...          ...                       ...\n",
       "87275  volume   5484.38416 2023-02-04 20:00:00+00:00\n",
       "87276  volume   4614.64216 2023-02-04 21:00:00+00:00\n",
       "87277  volume   4638.30091 2023-02-04 22:00:00+00:00\n",
       "87278  volume   9471.40173 2023-02-04 23:00:00+00:00\n",
       "87279  volume   7678.34651 2023-02-05 00:00:00+00:00\n",
       "\n",
       "[87280 rows x 3 columns]"
      ]
     },
     "execution_count": 90,
     "metadata": {},
     "output_type": "execute_result"
    }
   ],
   "source": [
    "data"
   ]
  },
  {
   "cell_type": "code",
   "execution_count": 91,
   "metadata": {},
   "outputs": [],
   "source": [
    "data=data.rename({0:\"_field\",1:\"_value\",2:\"_time\"},axis=1)\n",
    "data['_time'] = pd.to_datetime(data['_time'],format='%Y-%m-%dT%H:%M:%SZ',errors='coerce')\n",
    "data['_value']=pd.to_numeric(data['_value'],errors='coerce',downcast=\"float\")\n",
    "data.dropna(inplace=True)\n",
    "data=pd.pivot(data,index='_time',columns='_field',values='_value')\n",
    "data=data.reset_index()"
   ]
  },
  {
   "cell_type": "code",
   "execution_count": 92,
   "metadata": {},
   "outputs": [],
   "source": [
    "data=data.iloc[:-100,:]"
   ]
  },
  {
   "cell_type": "code",
   "execution_count": 93,
   "metadata": {},
   "outputs": [],
   "source": [
    "\n",
    "\n",
    "\n",
    "exog=data.copy()\n",
    "exog.drop('high',axis=1,inplace=True)\n",
    "\n",
    "exog['_time']=pd.DatetimeIndex(exog.reset_index()['_time']) + pd.DateOffset(hours=1)\n",
    "data=data[1:]\n",
    "last_exog=exog.iloc[-1]\n",
    "exog=exog.iloc[:-1]\n",
    "\n",
    "data.set_index('_time',inplace=True)\n",
    "exog.set_index('_time',inplace=True)\n"
   ]
  },
  {
   "cell_type": "code",
   "execution_count": null,
   "metadata": {},
   "outputs": [],
   "source": []
  },
  {
   "cell_type": "code",
   "execution_count": 94,
   "metadata": {},
   "outputs": [
    {
     "name": "stderr",
     "output_type": "stream",
     "text": [
      "/Users/dariodm/opt/anaconda3/envs/proj_nuovo/lib/python3.10/site-packages/statsmodels/tsa/statespace/sarimax.py:978: UserWarning: Non-invertible starting MA parameters found. Using zeros as starting parameters.\n",
      "  warn('Non-invertible starting MA parameters found.'\n",
      "/Users/dariodm/opt/anaconda3/envs/proj_nuovo/lib/python3.10/site-packages/statsmodels/base/model.py:604: ConvergenceWarning: Maximum Likelihood optimization failed to converge. Check mle_retvals\n",
      "  warnings.warn(\"Maximum Likelihood optimization failed to \"\n"
     ]
    }
   ],
   "source": [
    "endog=data['high'].values.reshape(-1,1)\n",
    "model = sm.tsa.arima.ARIMA(endog=endog[:-1],exog=np.array(exog[:-1],dtype='float'), order=(5,3,3))\n",
    "results = model.fit(method='statespace')\n",
    "result=results.forecast(steps=1,exog=exog.iloc[-1])\n",
    "result=result[0]"
   ]
  },
  {
   "cell_type": "code",
   "execution_count": 95,
   "metadata": {},
   "outputs": [
    {
     "data": {
      "text/plain": [
       "23127.2008936255"
      ]
     },
     "execution_count": 95,
     "metadata": {},
     "output_type": "execute_result"
    }
   ],
   "source": [
    "result"
   ]
  }
 ],
 "metadata": {
  "kernelspec": {
   "display_name": "proj_nuovo",
   "language": "python",
   "name": "python3"
  },
  "language_info": {
   "codemirror_mode": {
    "name": "ipython",
    "version": 3
   },
   "file_extension": ".py",
   "mimetype": "text/x-python",
   "name": "python",
   "nbconvert_exporter": "python",
   "pygments_lexer": "ipython3",
   "version": "3.10.9"
  },
  "orig_nbformat": 4,
  "vscode": {
   "interpreter": {
    "hash": "edf1a997101cf54eda889f7dadaae8ae7ad8aa9d52bffd4ade5889755ff92338"
   }
  }
 },
 "nbformat": 4,
 "nbformat_minor": 2
}
