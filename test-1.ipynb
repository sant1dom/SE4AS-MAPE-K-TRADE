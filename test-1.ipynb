{
 "cells": [
  {
   "cell_type": "code",
   "execution_count": 42,
   "metadata": {},
   "outputs": [
    {
     "name": "stdout",
     "output_type": "stream",
     "text": [
      "Prediction: 1665.428583307803\n",
      "Buy/Sell: 1\n"
     ]
    }
   ],
   "source": [
    "import requests\n",
    "url = \"http://localhost:5020/planner_result?coin=ETH\"\n",
    "response = requests.get(url)\n",
    "data = response.json()\n",
    "\n",
    "prediction = data[\"prediction\"]\n",
    "buy_sell = data[\"buy_sell\"]\n",
    "\n",
    "print(\"Prediction:\", prediction)\n",
    "print(\"Buy/Sell:\", buy_sell)\n",
    "#22970"
   ]
  }
 ],
 "metadata": {
  "kernelspec": {
   "display_name": "proj_nuovo",
   "language": "python",
   "name": "python3"
  },
  "language_info": {
   "codemirror_mode": {
    "name": "ipython",
    "version": 3
   },
   "file_extension": ".py",
   "mimetype": "text/x-python",
   "name": "python",
   "nbconvert_exporter": "python",
   "pygments_lexer": "ipython3",
   "version": "3.10.9"
  },
  "orig_nbformat": 4,
  "vscode": {
   "interpreter": {
    "hash": "edf1a997101cf54eda889f7dadaae8ae7ad8aa9d52bffd4ade5889755ff92338"
   }
  }
 },
 "nbformat": 4,
 "nbformat_minor": 2
}
