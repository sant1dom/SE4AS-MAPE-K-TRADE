{
 "cells": [
  {
   "cell_type": "code",
   "execution_count": 82,
   "metadata": {},
   "outputs": [],
   "source": [
    "import requests\n",
    "import datetime\n",
    "\n",
    "class portfolio:\n",
    "    def __init__(self,investment):\n",
    "        self.investment = investment\n",
    "        self.coins_owned = {}\n",
    "        self.retrieve_last_prices()\n",
    "        #self.predictions = self.request_predictions()\n",
    "        \n",
    "        \n",
    "    def sell_all(self,coin):\n",
    "        if coin in self.coins_owned:\n",
    "            self.investment += self.coins_owned[coin]*self.last_prices[coin]\n",
    "            self.coins_owned[coin] = 0\n",
    "        \n",
    "        \n",
    "    def buy_10(self,coin,buy_quantity):\n",
    "        # 10% of amount of availabel dollars converted to coin, after that the coin in the portfolio gets that value added \n",
    "        # if it exists otherwise it gets created with that value\n",
    "        coin_value_conversion = buy_quantity/self.last_prices[coin]\n",
    "        if coin in self.coins_owned:\n",
    "            self.coins_owned[coin]+=coin_value_conversion\n",
    "        else:\n",
    "            self.coins_owned[coin]=coin_value_conversion\n",
    "        self.investment-=buy_quantity\n",
    "        \n",
    "    def portfolio_update(self):\n",
    "        self.retrieve_last_prices()\n",
    "        buy_quantity = self.investment/10\n",
    "        predictions = self.request_predictions()                \n",
    "        for coin,buy_value in predictions.items():\n",
    "            if buy_value:\n",
    "                self.buy_10(coin,buy_quantity)\n",
    "            else:\n",
    "                self.sell_all(coin)\n",
    "        print(self.investment)\n",
    "        print(self.coins_owned)\n",
    "\n",
    "            \n",
    "    \n",
    "    def retrieve_last_prices(self):\n",
    "        url = 'https://api.binance.com/api/v3/klines'\n",
    "\n",
    "        symbols = ['ADAUSDT', 'BNBUSDT', 'BTCUSDT', 'DOGEUSDT', 'DOTUSDT', 'ETHUSDT', 'LINKUSDT', 'LTCUSDT', 'UNIUSDT', 'XRPUSDT']  \n",
    "        interval = '1d'\n",
    "        limit = 1\n",
    "\n",
    "        last_prices={}\n",
    "\n",
    "        for symbol in symbols:\n",
    "            params = {\n",
    "                'symbol': symbol,\n",
    "                'interval': interval,\n",
    "                'limit': limit\n",
    "            }\n",
    "            response = requests.get(url, params=params)\n",
    "            if response.status_code == 200:\n",
    "                data = response.json()\n",
    "                for item in data:\n",
    "                    close_price = item[4]\n",
    "                    last_prices[symbol]=close_price\n",
    "            else:\n",
    "                print(f\"Error retrieving data for symbol {symbol}. Status code: {response.status_code}\")\n",
    "            \n",
    "            for keys in last_prices:\n",
    "                last_prices[keys] = float(last_prices[keys])\n",
    "        self.last_prices = last_prices\n",
    "    \n",
    "    def request_predictions(self):\n",
    "        initialization=0\n",
    "        coins = ['ADA', 'BNB', 'BTC', 'DOGE', 'DOT', 'ETH', 'LINK', 'LTC', 'UNI', 'XRP']\n",
    "        coin_signals={}\n",
    "        for coin in coins:\n",
    "            url = f\"http://localhost:5020/planner_result?coin={coin}\"\n",
    "            response = requests.get(url)\n",
    "            data = response.json()\n",
    "            coin_signals[coin+\"USDT\"] = data[\"buy_sell\"]\n",
    "            print('Prediction_Retrieval :'+str(len(coin_signals)*100/len(coins))+\"%\")\n",
    "        return coin_signals"
   ]
  },
  {
   "cell_type": "code",
   "execution_count": 83,
   "metadata": {},
   "outputs": [],
   "source": [
    "a = portfolio(100)"
   ]
  },
  {
   "cell_type": "code",
   "execution_count": 70,
   "metadata": {},
   "outputs": [
    {
     "name": "stdout",
     "output_type": "stream",
     "text": [
      "Prediction_Retrieval :10.0%\n",
      "Prediction_Retrieval :20.0%\n",
      "Prediction_Retrieval :30.0%\n",
      "Prediction_Retrieval :40.0%\n",
      "Prediction_Retrieval :50.0%\n",
      "Prediction_Retrieval :60.0%\n",
      "Prediction_Retrieval :70.0%\n",
      "Prediction_Retrieval :80.0%\n",
      "Prediction_Retrieval :90.0%\n",
      "Prediction_Retrieval :100.0%\n"
     ]
    }
   ],
   "source": [
    "a.portfolio_update()"
   ]
  },
  {
   "cell_type": "code",
   "execution_count": 71,
   "metadata": {},
   "outputs": [
    {
     "data": {
      "text/plain": [
       "{'ADAUSDT': 0.3587,\n",
       " 'BNBUSDT': 301.9,\n",
       " 'BTCUSDT': 23507.9,\n",
       " 'DOGEUSDT': 0.08182,\n",
       " 'DOTUSDT': 6.488,\n",
       " 'ETHUSDT': 1653.41,\n",
       " 'LINKUSDT': 7.488,\n",
       " 'LTCUSDT': 97.44,\n",
       " 'UNIUSDT': 6.812,\n",
       " 'XRPUSDT': 0.3832}"
      ]
     },
     "execution_count": 71,
     "metadata": {},
     "output_type": "execute_result"
    }
   ],
   "source": [
    "a.last_prices"
   ]
  },
  {
   "cell_type": "code",
   "execution_count": 73,
   "metadata": {},
   "outputs": [
    {
     "data": {
      "text/plain": [
       "{'XRPUSDT': 26.096033402922757}"
      ]
     },
     "execution_count": 73,
     "metadata": {},
     "output_type": "execute_result"
    }
   ],
   "source": [
    "a.coins_owned"
   ]
  },
  {
   "cell_type": "code",
   "execution_count": 79,
   "metadata": {},
   "outputs": [
    {
     "data": {
      "text/plain": [
       "100.0"
      ]
     },
     "execution_count": 79,
     "metadata": {},
     "output_type": "execute_result"
    }
   ],
   "source": [
    "a.investment"
   ]
  }
 ],
 "metadata": {
  "kernelspec": {
   "display_name": "proj_nuovo",
   "language": "python",
   "name": "python3"
  },
  "language_info": {
   "codemirror_mode": {
    "name": "ipython",
    "version": 3
   },
   "file_extension": ".py",
   "mimetype": "text/x-python",
   "name": "python",
   "nbconvert_exporter": "python",
   "pygments_lexer": "ipython3",
   "version": "3.10.9"
  },
  "orig_nbformat": 4,
  "vscode": {
   "interpreter": {
    "hash": "edf1a997101cf54eda889f7dadaae8ae7ad8aa9d52bffd4ade5889755ff92338"
   }
  }
 },
 "nbformat": 4,
 "nbformat_minor": 2
}
