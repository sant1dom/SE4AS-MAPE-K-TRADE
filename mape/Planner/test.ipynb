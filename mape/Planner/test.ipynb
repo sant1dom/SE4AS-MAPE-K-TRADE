{
 "cells": [
  {
   "cell_type": "code",
   "execution_count": 1,
   "metadata": {},
   "outputs": [],
   "source": [
    "import pandas as pd\n",
    "from influxdb_client import InfluxDBClient, QueryApi\n",
    "import os\n",
    "import statsmodels.api as sm\n",
    "import numpy as np\n",
    "from dotenv import load_dotenv\n",
    "from flask import Flask, jsonify\n",
    "\n",
    "def get_ml_result():\n",
    "  load_dotenv()\n",
    "\n",
    "  INFLUXDB_TOKEN = os.getenv(\"INFLUXDB_TOKEN\")\n",
    "  INFLUXDB_ORG = os.getenv(\"INFLUXDB_ORG\")\n",
    "  INFLUXDB_BUCKET = os.getenv(\"INFLUXDB_BUCKET\")\n",
    "  INFLUXDB_URL = os.getenv(\"INFLUXDB_URL\")\n",
    "\n",
    "  app = Flask(__name__)\n",
    "\n",
    "\n",
    "  client = InfluxDBClient(url=\"http://localhost:8086\", token=INFLUXDB_TOKEN, org=INFLUXDB_ORG, timeout=30_000)\n",
    "\n",
    "  query_api = client.query_api()\n",
    "  query = 'from(bucket: \"crypto\")\\\n",
    "    |> range(start: -1y)\\\n",
    "    |> filter(fn: (r) => r[\"_measurement\"] == \"BTCUSDT\")'\n",
    "  result = query_api.query(org=INFLUXDB_ORG, query=query)\n",
    "\n",
    "\n",
    "\n",
    "  results = []\n",
    "  for table in result:\n",
    "    for record in table.records:\n",
    "      results.append((record.get_field(), record.get_value(),record.get_time()))\n",
    "      \n",
    "  data=pd.DataFrame(results)\n",
    "  data=data.rename({0:\"_field\",1:\"_value\",2:\"_time\"},axis=1)\n",
    "  data['_time'] = pd.to_datetime(data['_time'],format='%Y-%m-%dT%H:%M:%SZ',errors='coerce')\n",
    "  data['_value']=pd.to_numeric(data['_value'],errors='coerce',downcast=\"float\")\n",
    "  data.dropna(inplace=True)\n",
    "  data=pd.pivot(data,index='_time',columns='_field',values='_value')\n",
    "  data=data.reset_index()\n",
    "  data\n",
    "  exog=data.copy()\n",
    "  exog.drop('high',axis=1,inplace=True)\n",
    "\n",
    "  exog['_time']=pd.DatetimeIndex(exog.reset_index()['_time']) + pd.DateOffset(hours=1)\n",
    "  data=data[1:]\n",
    "  last_exog=exog.iloc[-1]\n",
    "  exog=exog.iloc[:-1]\n",
    "\n",
    "  data.set_index('_time',inplace=True)\n",
    "  exog.set_index('_time',inplace=True)\n",
    "\n",
    "  endog=data['high'].values.reshape(-1,1)\n",
    "  model = sm.tsa.arima.ARIMA(endog=endog[:-1],exog=np.array(exog[:-1],dtype='float'), order=(5,3,3))\n",
    "  results = model.fit(method='statespace')\n",
    "  result=results.forecast(steps=1,exog=exog.iloc[-1])\n",
    "  result=result[0]\n",
    "  return result\n",
    "\n"
   ]
  },
  {
   "cell_type": "code",
   "execution_count": 2,
   "metadata": {},
   "outputs": [
    {
     "name": "stdout",
     "output_type": "stream",
     "text": [
      " * Serving Flask app '__main__'\n",
      " * Debug mode: off\n"
     ]
    },
    {
     "name": "stderr",
     "output_type": "stream",
     "text": [
      "\u001b[31m\u001b[1mWARNING: This is a development server. Do not use it in a production deployment. Use a production WSGI server instead.\u001b[0m\n",
      " * Running on all addresses (0.0.0.0)\n",
      " * Running on http://127.0.0.1:5010\n",
      " * Running on http://192.168.0.100:5010\n",
      "\u001b[33mPress CTRL+C to quit\u001b[0m\n",
      "/Users/dariodm/opt/anaconda3/envs/proj_nuovo/lib/python3.10/site-packages/statsmodels/tsa/statespace/sarimax.py:978: UserWarning: Non-invertible starting MA parameters found. Using zeros as starting parameters.\n",
      "  warn('Non-invertible starting MA parameters found.'\n",
      "/Users/dariodm/opt/anaconda3/envs/proj_nuovo/lib/python3.10/site-packages/statsmodels/base/model.py:604: ConvergenceWarning: Maximum Likelihood optimization failed to converge. Check mle_retvals\n",
      "  warnings.warn(\"Maximum Likelihood optimization failed to \"\n",
      "127.0.0.1 - - [06/Feb/2023 18:06:34] \"GET /planner_result HTTP/1.1\" 200 -\n"
     ]
    }
   ],
   "source": [
    "import requests\n",
    "from flask import Flask, jsonify #AGGIUNGERE A DOCKER\n",
    "\n",
    "\n",
    "app = Flask(__name__)\n",
    "\n",
    "@app.route(\"/planner_result\")\n",
    "def get_ml():\n",
    "    c=0\n",
    "    \n",
    "    prediction = get_ml_result()\n",
    "\n",
    "    url = \"https://api.binance.com/api/v3/ticker/price?symbol=BTCUSDT\"\n",
    "    response = requests.get(url)\n",
    "    data = response.json()\n",
    "    last_price = float(data[\"price\"])\n",
    "\n",
    "    if last_price < prediction:\n",
    "        c=1 #buy \n",
    "    else:\n",
    "        c=0 #sell\n",
    "    return jsonify({\"prediction\": prediction,\"buy_sell\": c})\n",
    "\n",
    "if __name__ == \"__main__\":\n",
    "    app.run(host=\"0.0.0.0\",port=\"5010\")\n",
    "\n"
   ]
  },
  {
   "cell_type": "code",
   "execution_count": null,
   "metadata": {},
   "outputs": [],
   "source": []
  }
 ],
 "metadata": {
  "kernelspec": {
   "display_name": "proj_nuovo",
   "language": "python",
   "name": "python3"
  },
  "language_info": {
   "codemirror_mode": {
    "name": "ipython",
    "version": 3
   },
   "file_extension": ".py",
   "mimetype": "text/x-python",
   "name": "python",
   "nbconvert_exporter": "python",
   "pygments_lexer": "ipython3",
   "version": "3.10.9"
  },
  "orig_nbformat": 4,
  "vscode": {
   "interpreter": {
    "hash": "edf1a997101cf54eda889f7dadaae8ae7ad8aa9d52bffd4ade5889755ff92338"
   }
  }
 },
 "nbformat": 4,
 "nbformat_minor": 2
}
